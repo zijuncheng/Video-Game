{
 "cells": [
  {
   "cell_type": "markdown",
   "metadata": {},
   "source": [
    "#### The purpose of this notebook is to prepare the data and split them into train and test data set"
   ]
  },
  {
   "cell_type": "code",
   "execution_count": 1,
   "metadata": {},
   "outputs": [
    {
     "name": "stdout",
     "output_type": "stream",
     "text": [
      "[nltk_data] Downloading package stopwords to\n",
      "[nltk_data]     C:\\Users\\Zijun\\AppData\\Roaming\\nltk_data...\n",
      "[nltk_data]   Package stopwords is already up-to-date!\n",
      "[nltk_data] Downloading package punkt to\n",
      "[nltk_data]     C:\\Users\\Zijun\\AppData\\Roaming\\nltk_data...\n",
      "[nltk_data]   Package punkt is already up-to-date!\n"
     ]
    }
   ],
   "source": [
    "import numpy as np\n",
    "import pandas as pd\n",
    "import math\n",
    "from collections import Counter\n",
    "\n",
    "from glove import Corpus, Glove\n",
    "from nltk.corpus import stopwords \n",
    "from nltk.tokenize import word_tokenize\n",
    "import nltk\n",
    "nltk.download('stopwords')\n",
    "nltk.download('punkt')\n",
    "\n",
    "from sklearn.manifold import TSNE\n",
    "import matplotlib.pyplot as plt\n",
    "\n",
    "from sklearn.feature_extraction.text import TfidfVectorizer"
   ]
  },
  {
   "cell_type": "code",
   "execution_count": 2,
   "metadata": {},
   "outputs": [],
   "source": [
    "import pickle"
   ]
  },
  {
   "cell_type": "code",
   "execution_count": 3,
   "metadata": {},
   "outputs": [],
   "source": [
    "def save_obj(obj, name ):\n",
    "    with open('./'+ name + '.pkl', 'wb') as f:\n",
    "        pickle.dump(obj, f, pickle.HIGHEST_PROTOCOL)\n",
    "\n",
    "def load_obj(name ):\n",
    "    with open('./' + name + '.pkl', 'rb') as f:\n",
    "        return pickle.load(f)"
   ]
  },
  {
   "cell_type": "code",
   "execution_count": 4,
   "metadata": {},
   "outputs": [],
   "source": [
    "#import the merged data\n",
    "filename = \"GameData.csv\"\n",
    "\n",
    "df = pd.read_csv(filename,encoding = \"mac_roman\",sep='\\t')"
   ]
  },
  {
   "cell_type": "code",
   "execution_count": 5,
   "metadata": {},
   "outputs": [
    {
     "data": {
      "text/html": [
       "<div>\n",
       "<style scoped>\n",
       "    .dataframe tbody tr th:only-of-type {\n",
       "        vertical-align: middle;\n",
       "    }\n",
       "\n",
       "    .dataframe tbody tr th {\n",
       "        vertical-align: top;\n",
       "    }\n",
       "\n",
       "    .dataframe thead th {\n",
       "        text-align: right;\n",
       "    }\n",
       "</style>\n",
       "<table border=\"1\" class=\"dataframe\">\n",
       "  <thead>\n",
       "    <tr style=\"text-align: right;\">\n",
       "      <th></th>\n",
       "      <th>Unnamed: 0</th>\n",
       "      <th>new-price</th>\n",
       "      <th>sales-volume</th>\n",
       "      <th>release-year</th>\n",
       "      <th>genres</th>\n",
       "      <th>name</th>\n",
       "      <th>slug</th>\n",
       "      <th>rating</th>\n",
       "      <th>developers</th>\n",
       "      <th>platforms</th>\n",
       "      <th>tags</th>\n",
       "      <th>match</th>\n",
       "    </tr>\n",
       "  </thead>\n",
       "  <tbody>\n",
       "    <tr>\n",
       "      <th>0</th>\n",
       "      <td>NaN</td>\n",
       "      <td>&lt;lambda&gt;</td>\n",
       "      <td>sum</td>\n",
       "      <td>&lt;lambda&gt;</td>\n",
       "      <td>NaN</td>\n",
       "      <td>NaN</td>\n",
       "      <td>NaN</td>\n",
       "      <td>NaN</td>\n",
       "      <td>NaN</td>\n",
       "      <td>NaN</td>\n",
       "      <td>NaN</td>\n",
       "      <td>NaN</td>\n",
       "    </tr>\n",
       "    <tr>\n",
       "      <th>1</th>\n",
       "      <td>product-name-slug</td>\n",
       "      <td>NaN</td>\n",
       "      <td>NaN</td>\n",
       "      <td>NaN</td>\n",
       "      <td>NaN</td>\n",
       "      <td>NaN</td>\n",
       "      <td>NaN</td>\n",
       "      <td>NaN</td>\n",
       "      <td>NaN</td>\n",
       "      <td>NaN</td>\n",
       "      <td>NaN</td>\n",
       "      <td>NaN</td>\n",
       "    </tr>\n",
       "    <tr>\n",
       "      <th>2</th>\n",
       "      <td>-30-great-games--family-party</td>\n",
       "      <td>7.88</td>\n",
       "      <td>16</td>\n",
       "      <td>2008.0</td>\n",
       "      <td>NaN</td>\n",
       "      <td>Family Party: 30 Great Games</td>\n",
       "      <td>family-party-30-great-games</td>\n",
       "      <td>0.00</td>\n",
       "      <td>NaN</td>\n",
       "      <td>Wii</td>\n",
       "      <td>[party]</td>\n",
       "      <td>True</td>\n",
       "    </tr>\n",
       "    <tr>\n",
       "      <th>3</th>\n",
       "      <td>007--agent-under-fire</td>\n",
       "      <td>12.43</td>\n",
       "      <td>97</td>\n",
       "      <td>2002.0</td>\n",
       "      <td>NaN</td>\n",
       "      <td>James Bond 007: Agent Under Fire</td>\n",
       "      <td>james-bond-007-agent-under-fire</td>\n",
       "      <td>3.90</td>\n",
       "      <td>Electronic Arts,Visceral Games,Electronic Arts...</td>\n",
       "      <td>Xbox,GameCube,PlayStation 2</td>\n",
       "      <td>Multiplayer,Singleplayer</td>\n",
       "      <td>True</td>\n",
       "    </tr>\n",
       "    <tr>\n",
       "      <th>4</th>\n",
       "      <td>007--everything-or-nothing</td>\n",
       "      <td>9.987066800602712</td>\n",
       "      <td>143</td>\n",
       "      <td>2004.0</td>\n",
       "      <td>[shooter]</td>\n",
       "      <td>James Bond 007: Everything or Nothing</td>\n",
       "      <td>james-bond-007-everything-or-nothing</td>\n",
       "      <td>4.42</td>\n",
       "      <td>Griptonite Games,Electronic Arts Redwood Shores</td>\n",
       "      <td>PlayStation 2,Game Boy Advance,Xbox,GameCube</td>\n",
       "      <td>Multiplayer,Singleplayer,cooperativeplay</td>\n",
       "      <td>True</td>\n",
       "    </tr>\n",
       "    <tr>\n",
       "      <th>5</th>\n",
       "      <td>007--from-russia-with-love</td>\n",
       "      <td>8.94</td>\n",
       "      <td>99</td>\n",
       "      <td>2005.0</td>\n",
       "      <td>[action]</td>\n",
       "      <td>James Bond 007: From Russia with Love</td>\n",
       "      <td>james-bond-007-from-russia-with-love</td>\n",
       "      <td>3.91</td>\n",
       "      <td>Rebellion,Visceral Games,Electronic Arts Redwo...</td>\n",
       "      <td>GameCube,PlayStation 2,PSP,Xbox</td>\n",
       "      <td>Multiplayer,Singleplayer</td>\n",
       "      <td>True</td>\n",
       "    </tr>\n",
       "    <tr>\n",
       "      <th>6</th>\n",
       "      <td>007--nightfire</td>\n",
       "      <td>38.1529028714891</td>\n",
       "      <td>255</td>\n",
       "      <td>2003.0</td>\n",
       "      <td>Action,Shooter</td>\n",
       "      <td>James Bond 007: NightFire</td>\n",
       "      <td>james-bond-007-nightfire</td>\n",
       "      <td>3.93</td>\n",
       "      <td>[gearbox-software]</td>\n",
       "      <td>PC</td>\n",
       "      <td>NaN</td>\n",
       "      <td>True</td>\n",
       "    </tr>\n",
       "    <tr>\n",
       "      <th>7</th>\n",
       "      <td>007--quantum-of-solace</td>\n",
       "      <td>8.594764740917212</td>\n",
       "      <td>483</td>\n",
       "      <td>2008.0</td>\n",
       "      <td>[action]</td>\n",
       "      <td>James Bond 007: Quantum of Solace</td>\n",
       "      <td>james-bond-007-quantum-of-solace</td>\n",
       "      <td>3.60</td>\n",
       "      <td>Beenox,Vicarious Visions</td>\n",
       "      <td>PlayStation 3,PC,Xbox 360,Wii,Nintendo DS,Play...</td>\n",
       "      <td>NaN</td>\n",
       "      <td>True</td>\n",
       "    </tr>\n",
       "    <tr>\n",
       "      <th>8</th>\n",
       "      <td>007--world-is-not-enough</td>\n",
       "      <td>23.33</td>\n",
       "      <td>360</td>\n",
       "      <td>2000.0</td>\n",
       "      <td>[action]</td>\n",
       "      <td>007: The World is not Enough</td>\n",
       "      <td>the-world-is-not-enough</td>\n",
       "      <td>4.17</td>\n",
       "      <td>[eurocom]</td>\n",
       "      <td>PC,PlayStation,Nintendo 64</td>\n",
       "      <td>Multiplayer,Singleplayer,exclusive</td>\n",
       "      <td>True</td>\n",
       "    </tr>\n",
       "    <tr>\n",
       "      <th>9</th>\n",
       "      <td>007-agent-under-fire</td>\n",
       "      <td>21.208075138121547</td>\n",
       "      <td>1191</td>\n",
       "      <td>2002.0</td>\n",
       "      <td>NaN</td>\n",
       "      <td>James Bond 007: Agent Under Fire</td>\n",
       "      <td>james-bond-007-agent-under-fire</td>\n",
       "      <td>3.90</td>\n",
       "      <td>Electronic Arts,Visceral Games,Electronic Arts...</td>\n",
       "      <td>Xbox,GameCube,PlayStation 2</td>\n",
       "      <td>Multiplayer,Singleplayer</td>\n",
       "      <td>True</td>\n",
       "    </tr>\n",
       "  </tbody>\n",
       "</table>\n",
       "</div>"
      ],
      "text/plain": [
       "                      Unnamed: 0           new-price sales-volume  \\\n",
       "0                            NaN            <lambda>          sum   \n",
       "1              product-name-slug                 NaN          NaN   \n",
       "2  -30-great-games--family-party                7.88           16   \n",
       "3          007--agent-under-fire               12.43           97   \n",
       "4     007--everything-or-nothing   9.987066800602712          143   \n",
       "5     007--from-russia-with-love                8.94           99   \n",
       "6                 007--nightfire    38.1529028714891          255   \n",
       "7         007--quantum-of-solace   8.594764740917212          483   \n",
       "8       007--world-is-not-enough               23.33          360   \n",
       "9           007-agent-under-fire  21.208075138121547         1191   \n",
       "\n",
       "  release-year          genres                                   name  \\\n",
       "0     <lambda>             NaN                                    NaN   \n",
       "1          NaN             NaN                                    NaN   \n",
       "2       2008.0             NaN           Family Party: 30 Great Games   \n",
       "3       2002.0             NaN       James Bond 007: Agent Under Fire   \n",
       "4       2004.0       [shooter]  James Bond 007: Everything or Nothing   \n",
       "5       2005.0        [action]  James Bond 007: From Russia with Love   \n",
       "6       2003.0  Action,Shooter              James Bond 007: NightFire   \n",
       "7       2008.0        [action]      James Bond 007: Quantum of Solace   \n",
       "8       2000.0        [action]           007: The World is not Enough   \n",
       "9       2002.0             NaN       James Bond 007: Agent Under Fire   \n",
       "\n",
       "                                   slug  rating  \\\n",
       "0                                   NaN     NaN   \n",
       "1                                   NaN     NaN   \n",
       "2           family-party-30-great-games    0.00   \n",
       "3       james-bond-007-agent-under-fire    3.90   \n",
       "4  james-bond-007-everything-or-nothing    4.42   \n",
       "5  james-bond-007-from-russia-with-love    3.91   \n",
       "6              james-bond-007-nightfire    3.93   \n",
       "7      james-bond-007-quantum-of-solace    3.60   \n",
       "8               the-world-is-not-enough    4.17   \n",
       "9       james-bond-007-agent-under-fire    3.90   \n",
       "\n",
       "                                          developers  \\\n",
       "0                                                NaN   \n",
       "1                                                NaN   \n",
       "2                                                NaN   \n",
       "3  Electronic Arts,Visceral Games,Electronic Arts...   \n",
       "4    Griptonite Games,Electronic Arts Redwood Shores   \n",
       "5  Rebellion,Visceral Games,Electronic Arts Redwo...   \n",
       "6                                 [gearbox-software]   \n",
       "7                           Beenox,Vicarious Visions   \n",
       "8                                          [eurocom]   \n",
       "9  Electronic Arts,Visceral Games,Electronic Arts...   \n",
       "\n",
       "                                           platforms  \\\n",
       "0                                                NaN   \n",
       "1                                                NaN   \n",
       "2                                                Wii   \n",
       "3                        Xbox,GameCube,PlayStation 2   \n",
       "4       PlayStation 2,Game Boy Advance,Xbox,GameCube   \n",
       "5                    GameCube,PlayStation 2,PSP,Xbox   \n",
       "6                                                 PC   \n",
       "7  PlayStation 3,PC,Xbox 360,Wii,Nintendo DS,Play...   \n",
       "8                         PC,PlayStation,Nintendo 64   \n",
       "9                        Xbox,GameCube,PlayStation 2   \n",
       "\n",
       "                                       tags match  \n",
       "0                                       NaN   NaN  \n",
       "1                                       NaN   NaN  \n",
       "2                                   [party]  True  \n",
       "3                  Multiplayer,Singleplayer  True  \n",
       "4  Multiplayer,Singleplayer,cooperativeplay  True  \n",
       "5                  Multiplayer,Singleplayer  True  \n",
       "6                                       NaN  True  \n",
       "7                                       NaN  True  \n",
       "8        Multiplayer,Singleplayer,exclusive  True  \n",
       "9                  Multiplayer,Singleplayer  True  "
      ]
     },
     "execution_count": 5,
     "metadata": {},
     "output_type": "execute_result"
    }
   ],
   "source": [
    "df.head(10)"
   ]
  },
  {
   "cell_type": "code",
   "execution_count": 6,
   "metadata": {},
   "outputs": [],
   "source": [
    "#get rid of the first 2 rows\n",
    "df = df.iloc[2:]"
   ]
  },
  {
   "cell_type": "code",
   "execution_count": 7,
   "metadata": {},
   "outputs": [],
   "source": [
    "df = df.rename(columns={\"Unnamed: 0\": \"product-name-slug\"})"
   ]
  },
  {
   "cell_type": "code",
   "execution_count": 8,
   "metadata": {},
   "outputs": [],
   "source": [
    "df = df.reset_index()"
   ]
  },
  {
   "cell_type": "code",
   "execution_count": 9,
   "metadata": {},
   "outputs": [
    {
     "data": {
      "text/html": [
       "<div>\n",
       "<style scoped>\n",
       "    .dataframe tbody tr th:only-of-type {\n",
       "        vertical-align: middle;\n",
       "    }\n",
       "\n",
       "    .dataframe tbody tr th {\n",
       "        vertical-align: top;\n",
       "    }\n",
       "\n",
       "    .dataframe thead th {\n",
       "        text-align: right;\n",
       "    }\n",
       "</style>\n",
       "<table border=\"1\" class=\"dataframe\">\n",
       "  <thead>\n",
       "    <tr style=\"text-align: right;\">\n",
       "      <th></th>\n",
       "      <th>index</th>\n",
       "      <th>product-name-slug</th>\n",
       "      <th>new-price</th>\n",
       "      <th>sales-volume</th>\n",
       "      <th>release-year</th>\n",
       "      <th>genres</th>\n",
       "      <th>name</th>\n",
       "      <th>slug</th>\n",
       "      <th>rating</th>\n",
       "      <th>developers</th>\n",
       "      <th>platforms</th>\n",
       "      <th>tags</th>\n",
       "      <th>match</th>\n",
       "    </tr>\n",
       "  </thead>\n",
       "  <tbody>\n",
       "    <tr>\n",
       "      <th>0</th>\n",
       "      <td>2</td>\n",
       "      <td>-30-great-games--family-party</td>\n",
       "      <td>7.88</td>\n",
       "      <td>16</td>\n",
       "      <td>2008.0</td>\n",
       "      <td>NaN</td>\n",
       "      <td>Family Party: 30 Great Games</td>\n",
       "      <td>family-party-30-great-games</td>\n",
       "      <td>0.00</td>\n",
       "      <td>NaN</td>\n",
       "      <td>Wii</td>\n",
       "      <td>[party]</td>\n",
       "      <td>True</td>\n",
       "    </tr>\n",
       "    <tr>\n",
       "      <th>1</th>\n",
       "      <td>3</td>\n",
       "      <td>007--agent-under-fire</td>\n",
       "      <td>12.43</td>\n",
       "      <td>97</td>\n",
       "      <td>2002.0</td>\n",
       "      <td>NaN</td>\n",
       "      <td>James Bond 007: Agent Under Fire</td>\n",
       "      <td>james-bond-007-agent-under-fire</td>\n",
       "      <td>3.90</td>\n",
       "      <td>Electronic Arts,Visceral Games,Electronic Arts...</td>\n",
       "      <td>Xbox,GameCube,PlayStation 2</td>\n",
       "      <td>Multiplayer,Singleplayer</td>\n",
       "      <td>True</td>\n",
       "    </tr>\n",
       "    <tr>\n",
       "      <th>2</th>\n",
       "      <td>4</td>\n",
       "      <td>007--everything-or-nothing</td>\n",
       "      <td>9.987066800602712</td>\n",
       "      <td>143</td>\n",
       "      <td>2004.0</td>\n",
       "      <td>[shooter]</td>\n",
       "      <td>James Bond 007: Everything or Nothing</td>\n",
       "      <td>james-bond-007-everything-or-nothing</td>\n",
       "      <td>4.42</td>\n",
       "      <td>Griptonite Games,Electronic Arts Redwood Shores</td>\n",
       "      <td>PlayStation 2,Game Boy Advance,Xbox,GameCube</td>\n",
       "      <td>Multiplayer,Singleplayer,cooperativeplay</td>\n",
       "      <td>True</td>\n",
       "    </tr>\n",
       "    <tr>\n",
       "      <th>3</th>\n",
       "      <td>5</td>\n",
       "      <td>007--from-russia-with-love</td>\n",
       "      <td>8.94</td>\n",
       "      <td>99</td>\n",
       "      <td>2005.0</td>\n",
       "      <td>[action]</td>\n",
       "      <td>James Bond 007: From Russia with Love</td>\n",
       "      <td>james-bond-007-from-russia-with-love</td>\n",
       "      <td>3.91</td>\n",
       "      <td>Rebellion,Visceral Games,Electronic Arts Redwo...</td>\n",
       "      <td>GameCube,PlayStation 2,PSP,Xbox</td>\n",
       "      <td>Multiplayer,Singleplayer</td>\n",
       "      <td>True</td>\n",
       "    </tr>\n",
       "    <tr>\n",
       "      <th>4</th>\n",
       "      <td>6</td>\n",
       "      <td>007--nightfire</td>\n",
       "      <td>38.1529028714891</td>\n",
       "      <td>255</td>\n",
       "      <td>2003.0</td>\n",
       "      <td>Action,Shooter</td>\n",
       "      <td>James Bond 007: NightFire</td>\n",
       "      <td>james-bond-007-nightfire</td>\n",
       "      <td>3.93</td>\n",
       "      <td>[gearbox-software]</td>\n",
       "      <td>PC</td>\n",
       "      <td>NaN</td>\n",
       "      <td>True</td>\n",
       "    </tr>\n",
       "  </tbody>\n",
       "</table>\n",
       "</div>"
      ],
      "text/plain": [
       "   index              product-name-slug          new-price sales-volume  \\\n",
       "0      2  -30-great-games--family-party               7.88           16   \n",
       "1      3          007--agent-under-fire              12.43           97   \n",
       "2      4     007--everything-or-nothing  9.987066800602712          143   \n",
       "3      5     007--from-russia-with-love               8.94           99   \n",
       "4      6                 007--nightfire   38.1529028714891          255   \n",
       "\n",
       "  release-year          genres                                   name  \\\n",
       "0       2008.0             NaN           Family Party: 30 Great Games   \n",
       "1       2002.0             NaN       James Bond 007: Agent Under Fire   \n",
       "2       2004.0       [shooter]  James Bond 007: Everything or Nothing   \n",
       "3       2005.0        [action]  James Bond 007: From Russia with Love   \n",
       "4       2003.0  Action,Shooter              James Bond 007: NightFire   \n",
       "\n",
       "                                   slug  rating  \\\n",
       "0           family-party-30-great-games    0.00   \n",
       "1       james-bond-007-agent-under-fire    3.90   \n",
       "2  james-bond-007-everything-or-nothing    4.42   \n",
       "3  james-bond-007-from-russia-with-love    3.91   \n",
       "4              james-bond-007-nightfire    3.93   \n",
       "\n",
       "                                          developers  \\\n",
       "0                                                NaN   \n",
       "1  Electronic Arts,Visceral Games,Electronic Arts...   \n",
       "2    Griptonite Games,Electronic Arts Redwood Shores   \n",
       "3  Rebellion,Visceral Games,Electronic Arts Redwo...   \n",
       "4                                 [gearbox-software]   \n",
       "\n",
       "                                      platforms  \\\n",
       "0                                           Wii   \n",
       "1                   Xbox,GameCube,PlayStation 2   \n",
       "2  PlayStation 2,Game Boy Advance,Xbox,GameCube   \n",
       "3               GameCube,PlayStation 2,PSP,Xbox   \n",
       "4                                            PC   \n",
       "\n",
       "                                       tags match  \n",
       "0                                   [party]  True  \n",
       "1                  Multiplayer,Singleplayer  True  \n",
       "2  Multiplayer,Singleplayer,cooperativeplay  True  \n",
       "3                  Multiplayer,Singleplayer  True  \n",
       "4                                       NaN  True  "
      ]
     },
     "execution_count": 9,
     "metadata": {},
     "output_type": "execute_result"
    }
   ],
   "source": [
    "df.head()"
   ]
  },
  {
   "cell_type": "code",
   "execution_count": 10,
   "metadata": {},
   "outputs": [
    {
     "data": {
      "text/plain": [
       "True    11367\n",
       "Name: match, dtype: int64"
      ]
     },
     "execution_count": 10,
     "metadata": {},
     "output_type": "execute_result"
    }
   ],
   "source": [
    "df[\"match\"].value_counts()"
   ]
  },
  {
   "cell_type": "code",
   "execution_count": 11,
   "metadata": {},
   "outputs": [],
   "source": [
    "#take the lines with match = True\n",
    "df_game = df[df[\"match\"]==True]"
   ]
  },
  {
   "cell_type": "code",
   "execution_count": 12,
   "metadata": {},
   "outputs": [],
   "source": [
    "genres_series = []"
   ]
  },
  {
   "cell_type": "code",
   "execution_count": 13,
   "metadata": {},
   "outputs": [],
   "source": [
    "#create a function to clean genres, platforms and developers\n",
    "def clean_format(label,df_set):\n",
    "    result = []\n",
    "    for index,row in df_set.iterrows():\n",
    "        data_label = row[label]\n",
    "        if isinstance(data_label ,float):\n",
    "            result.append(\"NA\")\n",
    "        else:\n",
    "            if data_label[0] == \"[\":\n",
    "                #if it's a single string and starts with \"[\"\n",
    "                temp = data_label[1:-1]\n",
    "                result.append(temp.lower())\n",
    "            else:\n",
    "                #if the string is separated by commas\n",
    "                temp = data_label.split(\",\")\n",
    "                #transform to lower cases\n",
    "                temp_lower = [x.lower() for x in temp]\n",
    "                result.extend(temp_lower)\n",
    "    return result"
   ]
  },
  {
   "cell_type": "code",
   "execution_count": 14,
   "metadata": {},
   "outputs": [],
   "source": [
    "genres_output = clean_format(\"genres\",df)"
   ]
  },
  {
   "cell_type": "code",
   "execution_count": 15,
   "metadata": {},
   "outputs": [],
   "source": [
    "genres_output_unique = set(genres_output)"
   ]
  },
  {
   "cell_type": "code",
   "execution_count": 16,
   "metadata": {},
   "outputs": [
    {
     "data": {
      "text/plain": [
       "{'NA',\n",
       " 'action',\n",
       " 'adventure',\n",
       " 'arcade',\n",
       " 'board games',\n",
       " 'board-games',\n",
       " 'card',\n",
       " 'casual',\n",
       " 'educational',\n",
       " 'family',\n",
       " 'fighting',\n",
       " 'indie',\n",
       " 'massively multiplayer',\n",
       " 'massively-multiplayer',\n",
       " 'platformer',\n",
       " 'puzzle',\n",
       " 'racing',\n",
       " 'role-playing-games-rpg',\n",
       " 'rpg',\n",
       " 'shooter',\n",
       " 'simulation',\n",
       " 'sports',\n",
       " 'strategy'}"
      ]
     },
     "execution_count": 16,
     "metadata": {},
     "output_type": "execute_result"
    }
   ],
   "source": [
    "genres_output_unique "
   ]
  },
  {
   "cell_type": "code",
   "execution_count": 17,
   "metadata": {},
   "outputs": [],
   "source": [
    "developers_output = clean_format(\"developers\",df)"
   ]
  },
  {
   "cell_type": "code",
   "execution_count": 18,
   "metadata": {},
   "outputs": [],
   "source": [
    "developers_output_unique = set(developers_output)"
   ]
  },
  {
   "cell_type": "code",
   "execution_count": 19,
   "metadata": {},
   "outputs": [],
   "source": [
    "platforms_output = clean_format(\"platforms\",df)"
   ]
  },
  {
   "cell_type": "code",
   "execution_count": 20,
   "metadata": {},
   "outputs": [],
   "source": [
    "platforms_output_unique = set(platforms_output)"
   ]
  },
  {
   "cell_type": "code",
   "execution_count": 21,
   "metadata": {},
   "outputs": [
    {
     "data": {
      "text/plain": [
       "50"
      ]
     },
     "execution_count": 21,
     "metadata": {},
     "output_type": "execute_result"
    }
   ],
   "source": [
    "len(set(platforms_output))"
   ]
  },
  {
   "cell_type": "code",
   "execution_count": null,
   "metadata": {},
   "outputs": [],
   "source": [
    "tags_output = clean_format(\"tags\",df)"
   ]
  },
  {
   "cell_type": "code",
   "execution_count": null,
   "metadata": {},
   "outputs": [],
   "source": [
    "tags_output_unique = set(tags_output)"
   ]
  },
  {
   "cell_type": "code",
   "execution_count": null,
   "metadata": {},
   "outputs": [],
   "source": [
    "len(set(tags_output)) "
   ]
  },
  {
   "cell_type": "markdown",
   "metadata": {},
   "source": [
    "Several feature engineering:\n",
    "1. Change release-year to age\n",
    "2. On genres, developers and platforms, extract unique values for each case\n",
    "3. Use vector representation of genres, developers and platforms. This way, we would not only include the number of available tags/features, but we would also be able to include the importance of each feature\n",
    "4. Change NaN to \"NA\" as a stand-alone value\n",
    "5. Normalization if necessary\n",
    "6. Find a way to add features \"Collections\" and \"Add-On\" \n",
    "7. Word learning using GloVe"
   ]
  },
  {
   "cell_type": "code",
   "execution_count": null,
   "metadata": {},
   "outputs": [],
   "source": [
    "#change the release-year to age\n",
    "df[\"age\"] = 2019 - df[\"release-year\"].astype(float)"
   ]
  },
  {
   "cell_type": "code",
   "execution_count": null,
   "metadata": {},
   "outputs": [],
   "source": [
    "#filter out the negative age\n",
    "df = df[df[\"age\"]>=0]"
   ]
  },
  {
   "cell_type": "code",
   "execution_count": null,
   "metadata": {},
   "outputs": [],
   "source": [
    "df"
   ]
  },
  {
   "cell_type": "code",
   "execution_count": null,
   "metadata": {},
   "outputs": [],
   "source": [
    "genres_output_unique "
   ]
  },
  {
   "cell_type": "code",
   "execution_count": null,
   "metadata": {},
   "outputs": [],
   "source": [
    "#make a copy of df\n",
    "df_inuse = df.copy()"
   ]
  },
  {
   "cell_type": "code",
   "execution_count": null,
   "metadata": {},
   "outputs": [],
   "source": [
    "#clean genres and platforms\n",
    "#genres\n",
    "\n",
    "#first clean some typo errors\n",
    "#clearly, board-games and board games are the same, and massively multiplayer and massively-multiplayer are the same\n",
    "#let's keep 'board-games' and 'massively-multiplayer' 'massively multiplayer'\n",
    "genres_output_unique.remove('board games')\n",
    "genres_output_unique.remove('massively multiplayer')"
   ]
  },
  {
   "cell_type": "code",
   "execution_count": null,
   "metadata": {},
   "outputs": [],
   "source": [
    "#make each genre a binary feature\n",
    "genres_features_label = list(genres_output_unique)"
   ]
  },
  {
   "cell_type": "code",
   "execution_count": null,
   "metadata": {},
   "outputs": [],
   "source": [
    "genres_features_label = [\"genre-\" + x for x in genres_features_label]"
   ]
  },
  {
   "cell_type": "code",
   "execution_count": null,
   "metadata": {},
   "outputs": [],
   "source": [
    "genres_features_label "
   ]
  },
  {
   "cell_type": "code",
   "execution_count": null,
   "metadata": {},
   "outputs": [],
   "source": [
    "#and make them binary features\n",
    "for title in genres_features_label:\n",
    "    df_inuse[title] = 0"
   ]
  },
  {
   "cell_type": "code",
   "execution_count": null,
   "metadata": {},
   "outputs": [],
   "source": [
    "df_inuse"
   ]
  },
  {
   "cell_type": "code",
   "execution_count": null,
   "metadata": {},
   "outputs": [],
   "source": [
    "#populate genre features correctly\n",
    "#change the function written before\n",
    "#no need to compare because of how the feature_labels are generated: they came from the genres itself, except \"board games\" and \"masively-multiplayer\"\n",
    "def clean_format_features(label,df_set,label_type):\n",
    "    for index,row in df_set.iterrows():\n",
    "        data_label = row[label]\n",
    "        if isinstance(data_label ,float):\n",
    "            df_set.loc[index,label_type+ \"-\"+\"NA\"] = 1\n",
    "        else:\n",
    "            if data_label[0] == \"[\":\n",
    "                #if it's a single string and starts with \"[\"\n",
    "                temp = data_label[1:-1]\n",
    "                #modify 2 genres,only works when it's populating genres\n",
    "                if temp == \"board games\":\n",
    "                    temp = \"board-games\"\n",
    "                elif temp == \"massively multiplayer\":\n",
    "                    temp = \"massively-multiplayer\"\n",
    "                df_set.loc[index,label_type+ \"-\"+temp] = 1\n",
    "            else:\n",
    "                #if the string is separated by commas and has multiple genres\n",
    "                temp = data_label.split(\",\")\n",
    "                #transform to lower cases\n",
    "                temp_lower = [x.lower() for x in temp]\n",
    "\n",
    "                for tt in temp_lower:\n",
    "                    if tt == \"board games\":\n",
    "                        tt = \"board-games\"\n",
    "                    elif tt == \"massively multiplayer\":\n",
    "                        tt = \"massively-multiplayer\"\n",
    "                    df_set.loc[index,label_type+ \"-\"+tt] = 1\n",
    "    return df_set"
   ]
  },
  {
   "cell_type": "code",
   "execution_count": null,
   "metadata": {},
   "outputs": [],
   "source": [
    "df_genres_cleaned = clean_format_features(\"genres\",df_inuse,\"genre\")"
   ]
  },
  {
   "cell_type": "code",
   "execution_count": null,
   "metadata": {},
   "outputs": [],
   "source": [
    "df_genres_cleaned.iloc[3] "
   ]
  },
  {
   "cell_type": "code",
   "execution_count": null,
   "metadata": {},
   "outputs": [],
   "source": [
    "#clean the platforms in the same fashion\n",
    "platforms_output_unique"
   ]
  },
  {
   "cell_type": "code",
   "execution_count": null,
   "metadata": {},
   "outputs": [],
   "source": [
    "platforms_features_label = list(platforms_output_unique)"
   ]
  },
  {
   "cell_type": "code",
   "execution_count": null,
   "metadata": {},
   "outputs": [],
   "source": [
    "platforms_features_label = [\"platform-\" + x for x in platforms_features_label]"
   ]
  },
  {
   "cell_type": "code",
   "execution_count": null,
   "metadata": {},
   "outputs": [],
   "source": [
    "for title in platforms_features_label:\n",
    "    df_genres_cleaned[title] = 0"
   ]
  },
  {
   "cell_type": "code",
   "execution_count": null,
   "metadata": {},
   "outputs": [],
   "source": [
    "df_genres_cleaned.iloc[3]"
   ]
  },
  {
   "cell_type": "code",
   "execution_count": null,
   "metadata": {},
   "outputs": [],
   "source": [
    "#populate the platform feature\n",
    "df_platform_cleaned = clean_format_features(\"platforms\",df_genres_cleaned,\"platform\")"
   ]
  },
  {
   "cell_type": "code",
   "execution_count": null,
   "metadata": {},
   "outputs": [],
   "source": [
    "df_platform_cleaned.iloc[3]"
   ]
  },
  {
   "cell_type": "code",
   "execution_count": null,
   "metadata": {},
   "outputs": [],
   "source": [
    "#now populate developers: pick the top 50 in terms of counts and put others in \"others\"\n",
    "developers_output "
   ]
  },
  {
   "cell_type": "code",
   "execution_count": null,
   "metadata": {},
   "outputs": [],
   "source": [
    "developers_output_count = Counter(developers_output)"
   ]
  },
  {
   "cell_type": "code",
   "execution_count": null,
   "metadata": {},
   "outputs": [],
   "source": [
    "type(developers_output_count)"
   ]
  },
  {
   "cell_type": "code",
   "execution_count": null,
   "metadata": {},
   "outputs": [],
   "source": [
    "developers_output_top50 = developers_output_count.most_common(50)"
   ]
  },
  {
   "cell_type": "code",
   "execution_count": null,
   "metadata": {},
   "outputs": [],
   "source": [
    "developers_output_top50"
   ]
  },
  {
   "cell_type": "code",
   "execution_count": null,
   "metadata": {},
   "outputs": [],
   "source": [
    "developers_output_top50_list = [x[0] for x in developers_output_top50]"
   ]
  },
  {
   "cell_type": "code",
   "execution_count": null,
   "metadata": {},
   "outputs": [],
   "source": [
    "developers_output_top50_list.append(\"Others\")"
   ]
  },
  {
   "cell_type": "code",
   "execution_count": null,
   "metadata": {},
   "outputs": [],
   "source": [
    "developers_output_top50_list"
   ]
  },
  {
   "cell_type": "code",
   "execution_count": null,
   "metadata": {},
   "outputs": [],
   "source": [
    "#make it a dictionary so that it's faster to search\n",
    "developers_output_top50_dict = {}\n",
    "for x in developers_output_top50_list:\n",
    "    developers_output_top50_dict[x] = \"developer-\"+x"
   ]
  },
  {
   "cell_type": "code",
   "execution_count": null,
   "metadata": {},
   "outputs": [],
   "source": [
    "developers_output_top50_dict "
   ]
  },
  {
   "cell_type": "code",
   "execution_count": null,
   "metadata": {},
   "outputs": [],
   "source": [
    "#modify the function to fit developers and tags\n",
    "def clean_format_features_2(label,df_set,label_dict):\n",
    "    for index,row in df_set.iterrows():\n",
    "        data_label = row[label]\n",
    "        if isinstance(data_label ,float):\n",
    "            #it's NA\n",
    "            df_set.loc[index,label_dict[\"NA\"]] = 1\n",
    "        else:\n",
    "            if data_label[0] == \"[\":\n",
    "                #if it's a single string and starts with \"[\"\n",
    "                #means there's only one item -> we take the string without \"[]\"\n",
    "                temp = data_label[1:-1]\n",
    "                #modify if the item is not in the dictionary (not in the top50 or 25 depending on the label)\n",
    "                if temp in label_dict:\n",
    "                    df_set.loc[index,label_dict[temp]] = 1\n",
    "                else:\n",
    "                    #other developers\n",
    "                    temp = \"Others\"\n",
    "                    df_set.loc[index,label_dict[temp]] = 1\n",
    "            else:\n",
    "                #if the string is separated by commas and has multiple items\n",
    "                temp = data_label.split(\",\")\n",
    "                #transform to lower cases\n",
    "                temp_lower = [x.lower() for x in temp]\n",
    "\n",
    "                for tt in temp_lower:\n",
    "                    if tt in label_dict:\n",
    "                        #print(tt)\n",
    "                        df_set.loc[index,label_dict[tt]] = 1\n",
    "                    else:\n",
    "                        #print(tt)\n",
    "                        tt = \"Others\"\n",
    "                        df_set.loc[index,label_dict[tt]] = 1\n",
    "                    \n",
    "    return df_set"
   ]
  },
  {
   "cell_type": "code",
   "execution_count": null,
   "metadata": {},
   "outputs": [],
   "source": [
    "df_new = df_platform_cleaned"
   ]
  },
  {
   "cell_type": "code",
   "execution_count": null,
   "metadata": {},
   "outputs": [],
   "source": [
    "#pre-populate the dataset with zeros\n",
    "for title in developers_output_top50_dict.items():\n",
    "    df_new[title[1]] = 0"
   ]
  },
  {
   "cell_type": "code",
   "execution_count": null,
   "metadata": {},
   "outputs": [],
   "source": [
    "df_new.head(5)"
   ]
  },
  {
   "cell_type": "code",
   "execution_count": null,
   "metadata": {},
   "outputs": [],
   "source": [
    "df_developers_cleaned = clean_format_features_2(\"developers\",df_new,developers_output_top50_dict)"
   ]
  },
  {
   "cell_type": "code",
   "execution_count": null,
   "metadata": {},
   "outputs": [],
   "source": [
    "df_developers_cleaned.loc[1,\"developers\"]"
   ]
  },
  {
   "cell_type": "code",
   "execution_count": null,
   "metadata": {},
   "outputs": [],
   "source": [
    "df_developers_cleaned.loc[1,\"developer-electronic arts\"]"
   ]
  },
  {
   "cell_type": "code",
   "execution_count": null,
   "metadata": {},
   "outputs": [],
   "source": [
    "#save a copy\n",
    "df_new = df_developers_cleaned"
   ]
  },
  {
   "cell_type": "code",
   "execution_count": null,
   "metadata": {},
   "outputs": [],
   "source": [
    "#clean tags in the same way (top 25 tags)\n",
    "tags_output_count = Counter(tags_output)\n",
    "tags_output_top25 = tags_output_count.most_common(25)\n",
    "tags_output_top25_list = [x[0] for x in tags_output_top25]\n",
    "tags_output_top25_list.append(\"Others\")\n",
    "\n",
    "\n",
    "tags_output_top25_dict = {}\n",
    "for x in tags_output_top25_list:\n",
    "    tags_output_top25_dict[x] = \"tag-\"+x"
   ]
  },
  {
   "cell_type": "code",
   "execution_count": null,
   "metadata": {},
   "outputs": [],
   "source": [
    "tags_output_top25_dict"
   ]
  },
  {
   "cell_type": "code",
   "execution_count": null,
   "metadata": {},
   "outputs": [],
   "source": [
    "#pre-populate the dataset with zeros\n",
    "for title in tags_output_top25_dict.items():\n",
    "    df_new[title[1]] = 0\n",
    "    \n",
    "df_new.head(5)"
   ]
  },
  {
   "cell_type": "code",
   "execution_count": null,
   "metadata": {},
   "outputs": [],
   "source": [
    "#populate binary features on tags\n",
    "df_tags_cleaned = clean_format_features_2(\"tags\",df_new,tags_output_top25_dict)"
   ]
  },
  {
   "cell_type": "code",
   "execution_count": null,
   "metadata": {},
   "outputs": [],
   "source": [
    "df_tags_cleaned.loc[1,\"tags\"]"
   ]
  },
  {
   "cell_type": "code",
   "execution_count": null,
   "metadata": {},
   "outputs": [],
   "source": [
    "df_tags_cleaned.iloc[1]"
   ]
  },
  {
   "cell_type": "markdown",
   "metadata": {},
   "source": [
    "##### use GloVe to train game names"
   ]
  },
  {
   "cell_type": "code",
   "execution_count": null,
   "metadata": {
    "scrolled": true
   },
   "outputs": [],
   "source": [
    "#from glove import Corpus, Glove"
   ]
  },
  {
   "cell_type": "code",
   "execution_count": null,
   "metadata": {},
   "outputs": [],
   "source": [
    "#construct the vocalbulary/documents/copus using game names\n",
    "#from nltk.corpus import stopwords \n",
    "#from nltk.tokenize import word_tokenize"
   ]
  },
  {
   "cell_type": "code",
   "execution_count": null,
   "metadata": {},
   "outputs": [],
   "source": [
    "import nltk\n",
    "nltk.download('stopwords')"
   ]
  },
  {
   "cell_type": "code",
   "execution_count": null,
   "metadata": {},
   "outputs": [],
   "source": [
    "stop_words = set(stopwords.words('english')) \n",
    "stop_words"
   ]
  },
  {
   "cell_type": "code",
   "execution_count": null,
   "metadata": {},
   "outputs": [],
   "source": [
    "#replace \"-\" with space in slug and every name would be a document, all the game titles would constinute a corpus\n",
    "df_new = df_tags_cleaned.copy()"
   ]
  },
  {
   "cell_type": "code",
   "execution_count": null,
   "metadata": {},
   "outputs": [],
   "source": [
    "len(df_new) "
   ]
  },
  {
   "cell_type": "code",
   "execution_count": null,
   "metadata": {},
   "outputs": [],
   "source": [
    "#df_new[\"glove_name\"] = df_new[\"slug\"].str.replace(\"-\",\" \")\n",
    "\n",
    "#10-29-2019\n",
    "\n",
    "df_new[\"glove_name\"] = df_new[\"product-name-slug\"].str.replace(\"-\",\" \")"
   ]
  },
  {
   "cell_type": "code",
   "execution_count": null,
   "metadata": {},
   "outputs": [],
   "source": [
    "df_new"
   ]
  },
  {
   "cell_type": "code",
   "execution_count": null,
   "metadata": {},
   "outputs": [],
   "source": [
    "#ger rid of other symbols such as \"[]\"\n",
    "\n",
    "#df_new[\"glove_name\"] = df_new[\"glove_name\"].str.replace(\"[\",\"\")\n",
    "#df_new[\"glove_name\"] = df_new[\"glove_name\"].str.replace(\"]\",\"\")\n",
    "#change all to lower cases\n",
    "#df_new[\"glove_name\"]  =  df_new[\"glove_name\"].str.lower()\n",
    "#df_new[\"glove_name\"]  = df_new[\"glove_name\"].str.replace(\"\\\\\",\"\")\n",
    "#df_new[\"glove_name\"]  = df_new[\"glove_name\"].str.replace(\"/\",\"\")\n",
    "#df_new[\"glove_name\"]  = df_new[\"glove_name\"].str.replace(\"&\",\"\")"
   ]
  },
  {
   "cell_type": "code",
   "execution_count": null,
   "metadata": {},
   "outputs": [],
   "source": [
    "#get rid of all the punctuations\n",
    "\n",
    "df_new[\"glove_name\"] = df_new[\"glove_name\"].str.translate(str.maketrans('', '', string.punctuation))"
   ]
  },
  {
   "cell_type": "code",
   "execution_count": null,
   "metadata": {},
   "outputs": [],
   "source": [
    "raw_lines = list(df_new[\"glove_name\"])"
   ]
  },
  {
   "cell_type": "code",
   "execution_count": null,
   "metadata": {},
   "outputs": [],
   "source": [
    "raw_lines"
   ]
  },
  {
   "cell_type": "code",
   "execution_count": null,
   "metadata": {},
   "outputs": [],
   "source": [
    "lines = [str(x) if isinstance(x,float) else word_tokenize(x) for x in raw_lines]"
   ]
  },
  {
   "cell_type": "code",
   "execution_count": null,
   "metadata": {},
   "outputs": [],
   "source": [
    "lines"
   ]
  },
  {
   "cell_type": "code",
   "execution_count": null,
   "metadata": {},
   "outputs": [],
   "source": [
    "filtered_lines = []"
   ]
  },
  {
   "cell_type": "code",
   "execution_count": null,
   "metadata": {},
   "outputs": [],
   "source": [
    "#get rid of english stopwords\n",
    "for l in lines:\n",
    "    temp = 0\n",
    "    if l == 'nan':\n",
    "        temp = ['nan']\n",
    "    else:\n",
    "        temp = [w for w in l if (w not in stop_words)]                  \n",
    "    filtered_lines.append(temp)"
   ]
  },
  {
   "cell_type": "code",
   "execution_count": null,
   "metadata": {},
   "outputs": [],
   "source": [
    "filtered_lines"
   ]
  },
  {
   "cell_type": "code",
   "execution_count": null,
   "metadata": {},
   "outputs": [],
   "source": [
    "#save filtred_lines\n",
    "#save_obj(filtered_lines,\"filtered_lines\")\n",
    "\n",
    "#new filtered lines using longer slug names\n",
    "save_obj(filtered_lines,\"filtered_lines_ver_2\")"
   ]
  },
  {
   "cell_type": "markdown",
   "metadata": {},
   "source": [
    "##### check most common words (double check if there's any redundant punctuations)"
   ]
  },
  {
   "cell_type": "code",
   "execution_count": null,
   "metadata": {},
   "outputs": [],
   "source": [
    "filtered_lines"
   ]
  },
  {
   "cell_type": "code",
   "execution_count": null,
   "metadata": {},
   "outputs": [],
   "source": [
    "flatten_lines =  [item for sublist in filtered_lines for item in sublist]\n",
    "word_counter = Counter(flatten_lines)\n",
    "word_counter.most_common(200)"
   ]
  },
  {
   "cell_type": "markdown",
   "metadata": {},
   "source": [
    "##### Train corpus"
   ]
  },
  {
   "cell_type": "code",
   "execution_count": null,
   "metadata": {},
   "outputs": [],
   "source": [
    "#now train the corpus\n",
    "corpus = Corpus() "
   ]
  },
  {
   "cell_type": "code",
   "execution_count": null,
   "metadata": {},
   "outputs": [],
   "source": [
    "corpus.fit(filtered_lines, window=10)"
   ]
  },
  {
   "cell_type": "code",
   "execution_count": null,
   "metadata": {},
   "outputs": [],
   "source": [
    "#try word embedding of 50 instead of 20\n",
    "glove = Glove(no_components=50, learning_rate=0.01)"
   ]
  },
  {
   "cell_type": "code",
   "execution_count": null,
   "metadata": {},
   "outputs": [],
   "source": [
    "glove.fit(corpus.matrix, epochs=100, no_threads=4, verbose=True)"
   ]
  },
  {
   "cell_type": "code",
   "execution_count": null,
   "metadata": {},
   "outputs": [],
   "source": [
    "glove.add_dictionary(corpus.dictionary)"
   ]
  },
  {
   "cell_type": "code",
   "execution_count": null,
   "metadata": {},
   "outputs": [],
   "source": [
    "glove.save('glove.model')"
   ]
  },
  {
   "cell_type": "code",
   "execution_count": null,
   "metadata": {},
   "outputs": [],
   "source": [
    "glove.dictionary['james']"
   ]
  },
  {
   "cell_type": "code",
   "execution_count": null,
   "metadata": {},
   "outputs": [],
   "source": [
    "glove.dictionary"
   ]
  },
  {
   "cell_type": "code",
   "execution_count": null,
   "metadata": {},
   "outputs": [],
   "source": [
    "dir(glove)"
   ]
  },
  {
   "cell_type": "code",
   "execution_count": null,
   "metadata": {
    "scrolled": true
   },
   "outputs": [],
   "source": [
    "print(glove.word_vectors[glove.dictionary['james']])"
   ]
  },
  {
   "cell_type": "code",
   "execution_count": null,
   "metadata": {},
   "outputs": [],
   "source": [
    "print(glove.most_similar('007'))"
   ]
  },
  {
   "cell_type": "code",
   "execution_count": null,
   "metadata": {},
   "outputs": [],
   "source": [
    "print(glove.most_similar('kart'))"
   ]
  },
  {
   "cell_type": "code",
   "execution_count": null,
   "metadata": {},
   "outputs": [],
   "source": [
    "print(glove.most_similar('assassins'))"
   ]
  },
  {
   "cell_type": "code",
   "execution_count": null,
   "metadata": {},
   "outputs": [],
   "source": [
    "print(glove.most_similar('dragon'))"
   ]
  },
  {
   "cell_type": "code",
   "execution_count": null,
   "metadata": {},
   "outputs": [],
   "source": [
    "print(glove.most_similar('hits'))"
   ]
  },
  {
   "cell_type": "code",
   "execution_count": null,
   "metadata": {},
   "outputs": [],
   "source": [
    "print(glove.most_similar('collectors'))"
   ]
  },
  {
   "cell_type": "code",
   "execution_count": null,
   "metadata": {},
   "outputs": [],
   "source": [
    "#virtualize using t-SNE\n",
    "\n",
    "#from sklearn.manifold import TSNE\n",
    "#import matplotlib.pyplot as plt\n",
    "%matplotlib inline\n",
    "\n",
    "#function from https://www.kaggle.com/jeffd23/visualizing-word-vectors-with-t-sne\n",
    "\n",
    "def tsne_transform(model):\n",
    "    \"Creates and TSNE model and plots it\"\n",
    "    labels = []\n",
    "    tokens = []\n",
    "\n",
    "    for word in model.dictionary:\n",
    "        #print(word)\n",
    "        tokens.append(model.word_vectors[model.dictionary[word]])\n",
    "        labels.append(word)\n",
    "    \n",
    "    tsne_model = TSNE(perplexity=40, n_components=2, init='pca', n_iter=2500, random_state=10)\n",
    "    new_values = tsne_model.fit_transform(tokens)\n",
    "\n",
    "    x = []\n",
    "    y = []\n",
    "    for value in new_values:\n",
    "        x.append(value[0])\n",
    "        y.append(value[1])\n",
    "        \n",
    "    return x,y,labels\n"
   ]
  },
  {
   "cell_type": "code",
   "execution_count": null,
   "metadata": {},
   "outputs": [],
   "source": [
    "x,y,labels_lst = tsne_transform(glove)"
   ]
  },
  {
   "cell_type": "code",
   "execution_count": null,
   "metadata": {},
   "outputs": [],
   "source": [
    "full_size = len(x)\n",
    "full_size"
   ]
  },
  {
   "cell_type": "code",
   "execution_count": null,
   "metadata": {},
   "outputs": [],
   "source": [
    "def tsne_plot(x,y,labels,x_min,x_max,y_min,y_max,picname,num_points):\n",
    "    plt.figure(figsize=(16, 16)) \n",
    "    for i in range(len(x[:num_points])):\n",
    "        plt.scatter(x[i],y[i])\n",
    "        plt.annotate(labels[i],\n",
    "                     xy=(x[i], y[i]),\n",
    "                     xytext=(5, 2),\n",
    "                     textcoords='offset points',\n",
    "                     ha='right',\n",
    "                     va='bottom')\n",
    "        \n",
    "    plt.axis([x_min,x_max,y_min,y_max])\n",
    "    plt.show()\n",
    "    #plt.savefig(picname +'.png')"
   ]
  },
  {
   "cell_type": "code",
   "execution_count": null,
   "metadata": {},
   "outputs": [],
   "source": [
    "tsne_plot(x,y,labels_lst,-100,100,-100,100,\"All_data\",300)"
   ]
  },
  {
   "cell_type": "code",
   "execution_count": null,
   "metadata": {},
   "outputs": [],
   "source": [
    "#zoom in some interesting areas\n",
    "tsne_plot(x,y,labels_lst,-100,100,-100,100,\"All_data\",full_size)"
   ]
  },
  {
   "cell_type": "markdown",
   "metadata": {},
   "source": [
    "###### tuning"
   ]
  },
  {
   "cell_type": "code",
   "execution_count": null,
   "metadata": {},
   "outputs": [],
   "source": [
    "#draw zooms\n",
    "#for x_value in range(-100,90,10):\n",
    "#    for y_value in range(-100,90,10):\n",
    "#        tsne_plot(x,y,labels_lst,x_value,x_value+10,y_value,y_value+10,\"All_data\",full_size)"
   ]
  },
  {
   "cell_type": "code",
   "execution_count": null,
   "metadata": {},
   "outputs": [],
   "source": [
    "glove_model_dict = {}"
   ]
  },
  {
   "cell_type": "code",
   "execution_count": null,
   "metadata": {},
   "outputs": [],
   "source": [
    "#the function will return a dictionary of glovel models that have been trained\n",
    "def glove_fitting_models(glove_model_dict,learning_rate=0.05,no_components=20,epochs=100,no_threads=4,order=1):\n",
    "    glove_temp = Glove(no_components, learning_rate)\n",
    "    glove_temp.fit(corpus.matrix, epochs, no_threads, verbose=True)\n",
    "    glove_temp.add_dictionary(corpus.dictionary)\n",
    "    glove_temp.save('glove'+'_'+str(order)+'.model')\n",
    "    glove_model_dict['glove'+'_'+str(order)] = glove_temp\n",
    "    return glove_model_dict"
   ]
  },
  {
   "cell_type": "code",
   "execution_count": null,
   "metadata": {},
   "outputs": [],
   "source": [
    "order = [1,2,3,4]\n",
    "no_components_vector = [10,20,50,100]\n",
    "epochs_num = 1000"
   ]
  },
  {
   "cell_type": "code",
   "execution_count": null,
   "metadata": {},
   "outputs": [],
   "source": [
    "#try different number of components\n",
    "for i in order:\n",
    "    glove_fitting_models(glove_model_dict,learning_rate=0.01,no_components=no_components_vector[i],epochs=epochs_num,no_threads=4,order=i)"
   ]
  },
  {
   "cell_type": "code",
   "execution_count": null,
   "metadata": {},
   "outputs": [],
   "source": [
    "glove_model_dict"
   ]
  },
  {
   "cell_type": "code",
   "execution_count": null,
   "metadata": {},
   "outputs": [],
   "source": [
    "x_glove_2,y_glove_2,labels_lst_glove_2 = tsne_transform(glove_model_dict['glove_2'])"
   ]
  },
  {
   "cell_type": "code",
   "execution_count": null,
   "metadata": {},
   "outputs": [],
   "source": [
    "size_glove_2 = len(labels_lst_glove_2)\n",
    "size_glove_2 "
   ]
  },
  {
   "cell_type": "code",
   "execution_count": null,
   "metadata": {},
   "outputs": [],
   "source": [
    "tsne_plot(x_glove_2,y_glove_2,labels_lst_glove_2,-100,100,-100,100,\"All_data\",size_glove_2)"
   ]
  },
  {
   "cell_type": "code",
   "execution_count": null,
   "metadata": {},
   "outputs": [],
   "source": [
    "tsne_plot(x_glove_2,y_glove_2,labels_lst_glove_2,-100,100,-100,100,\"All_data\",300)"
   ]
  },
  {
   "cell_type": "code",
   "execution_count": null,
   "metadata": {},
   "outputs": [],
   "source": [
    "tsne_plot(x_glove_2,y_glove_2,labels_lst_glove_2,20,30,-85,-75,\"All_data\",full_size)"
   ]
  },
  {
   "cell_type": "code",
   "execution_count": null,
   "metadata": {},
   "outputs": [],
   "source": [
    "tsne_plot(x_glove_2,y_glove_2,labels_lst_glove_2,-35,-25,-65,-55,\"All_data\",full_size)"
   ]
  },
  {
   "cell_type": "code",
   "execution_count": null,
   "metadata": {},
   "outputs": [],
   "source": [
    "glove_model_dict_2 = {}"
   ]
  },
  {
   "cell_type": "code",
   "execution_count": null,
   "metadata": {},
   "outputs": [],
   "source": [
    "order2 = [5,6,7,8]"
   ]
  },
  {
   "cell_type": "code",
   "execution_count": null,
   "metadata": {},
   "outputs": [],
   "source": [
    "#try different number of components\n",
    "for i in order2:\n",
    "    glove_fitting_models(glove_model_dict_2,learning_rate=0.05,no_components=no_components_vector[i-4],epochs=5000,no_threads=4,order=i)"
   ]
  },
  {
   "cell_type": "code",
   "execution_count": null,
   "metadata": {},
   "outputs": [],
   "source": [
    "glove_model_dict_2"
   ]
  },
  {
   "cell_type": "code",
   "execution_count": null,
   "metadata": {},
   "outputs": [],
   "source": [
    "x_glove_6,y_glove_6,labels_lst_glove_6 = tsne_transform(glove_model_dict_2['glove_6'])"
   ]
  },
  {
   "cell_type": "code",
   "execution_count": null,
   "metadata": {},
   "outputs": [],
   "source": [
    "size_glove_6= len(labels_lst_glove_6)\n",
    "size_glove_6 "
   ]
  },
  {
   "cell_type": "code",
   "execution_count": null,
   "metadata": {},
   "outputs": [],
   "source": [
    "tsne_plot(x_glove_6,y_glove_6,labels_lst_glove_6,-100,100,-100,100,\"All_data\",size_glove_6)"
   ]
  },
  {
   "cell_type": "code",
   "execution_count": null,
   "metadata": {},
   "outputs": [],
   "source": [
    "tsne_plot(x_glove_6,y_glove_6,labels_lst_glove_6,-100,100,-100,100,\"All_data\",300)"
   ]
  },
  {
   "cell_type": "code",
   "execution_count": null,
   "metadata": {},
   "outputs": [],
   "source": [
    "tsne_plot(x_glove_6,y_glove_6,labels_lst_glove_6,20,30,-85,-75,\"All_data\",full_size)"
   ]
  },
  {
   "cell_type": "code",
   "execution_count": null,
   "metadata": {},
   "outputs": [],
   "source": [
    "tsne_plot(x_glove_6,y_glove_6,labels_lst_glove_6,-35,-25,-65,-55,\"All_data\",full_size)"
   ]
  },
  {
   "cell_type": "code",
   "execution_count": null,
   "metadata": {},
   "outputs": [],
   "source": [
    "#check some key word\n",
    "#5000 trainings dimention 20\n",
    "print(glove.word_vectors[glove_model_dict_2['glove_6'].dictionary['james']])\n",
    "print(glove_model_dict_2['glove_6'].most_similar('james'))\n",
    "print(glove_model_dict_2['glove_6'].most_similar('assassins'))"
   ]
  },
  {
   "cell_type": "code",
   "execution_count": null,
   "metadata": {},
   "outputs": [],
   "source": [
    "#1000 trainings dimention 20\n",
    "print(glove.word_vectors[glove_model_dict['glove_2'].dictionary['james']])\n",
    "print(glove_model_dict['glove_2'].most_similar('james'))\n",
    "print(glove_model_dict['glove_2'].most_similar('assassins'))"
   ]
  },
  {
   "cell_type": "code",
   "execution_count": null,
   "metadata": {},
   "outputs": [],
   "source": [
    "#1000 trainings dimention 10\n",
    "print(glove.word_vectors[glove_model_dict['glove_1'].dictionary['james']])\n",
    "print(glove_model_dict['glove_1'].most_similar('james'))\n",
    "print(glove_model_dict['glove_1'].most_similar('assassins'))"
   ]
  },
  {
   "cell_type": "code",
   "execution_count": null,
   "metadata": {},
   "outputs": [],
   "source": [
    "#1000 trainings dimention 50\n",
    "print(glove.word_vectors[glove_model_dict['glove_3'].dictionary['james']])\n",
    "print(glove_model_dict['glove_3'].most_similar('james'))\n",
    "print(glove_model_dict['glove_3'].most_similar('assassins'))"
   ]
  },
  {
   "cell_type": "code",
   "execution_count": null,
   "metadata": {},
   "outputs": [],
   "source": [
    "#100 trainings dimention 20\n",
    "print(glove.word_vectors[glove.dictionary['james']])\n",
    "print(glove.most_similar('james'))\n",
    "print(glove.most_similar('assassins'))"
   ]
  },
  {
   "cell_type": "markdown",
   "metadata": {},
   "source": [
    "##### end of  tuning"
   ]
  },
  {
   "cell_type": "markdown",
   "metadata": {},
   "source": [
    "Next is to generate actual vectors to be used in the features"
   ]
  },
  {
   "cell_type": "code",
   "execution_count": null,
   "metadata": {},
   "outputs": [],
   "source": [
    "#try first with the vectors from epoch = 100 and dimention 20\n",
    "#and take the mean of all the words available in the title\n",
    "sentence_vectors = []\n",
    "real_vectors = []\n",
    "embed_n = 50\n",
    "for each_line in filtered_lines:\n",
    "    print(each_line)\n",
    "    temp = 0\n",
    "    sum_temp = 0\n",
    "    if (each_line == 'nan') or (len(each_line) == 0):\n",
    "        #temp = glove.word_vectors[glove.dictionary['nan']]\n",
    "        temp = [0]*embed_n\n",
    "    else:\n",
    "        #for w in each_line:\n",
    "        #    sum_temp = sum_temp + glove.word_vectors[glove.dictionary[w]]\n",
    "        #temp = sum_temp/(len(each_line))\n",
    "        temp = np.mean([glove.word_vectors[glove.dictionary[w]] for w in each_line],axis=0)    \n",
    "        temp_realv = [glove.word_vectors[glove.dictionary[w]] for w in each_line]\n",
    "    sentence_vectors.append(temp) \n",
    "    real_vectors.append(temp_realv)\n"
   ]
  },
  {
   "cell_type": "code",
   "execution_count": null,
   "metadata": {},
   "outputs": [],
   "source": [
    "len(sentence_vectors)"
   ]
  },
  {
   "cell_type": "code",
   "execution_count": null,
   "metadata": {},
   "outputs": [],
   "source": [
    "len(real_vectors[0])"
   ]
  },
  {
   "cell_type": "code",
   "execution_count": null,
   "metadata": {},
   "outputs": [],
   "source": [
    "#save realvectors\n",
    "\n",
    "#save_obj(real_vectors,\"word_vectors\")\n",
    "\n",
    "save_obj(real_vectors,\"word_vectors_size50\")\n",
    "save_obj(sentence_vectors,\"mean_word_vectors_size50\")"
   ]
  },
  {
   "cell_type": "code",
   "execution_count": null,
   "metadata": {},
   "outputs": [],
   "source": [
    "len(df_new)"
   ]
  },
  {
   "cell_type": "code",
   "execution_count": null,
   "metadata": {},
   "outputs": [],
   "source": [
    "len(filtered_lines)"
   ]
  },
  {
   "cell_type": "code",
   "execution_count": null,
   "metadata": {},
   "outputs": [],
   "source": [
    "len(real_vectors)"
   ]
  },
  {
   "cell_type": "code",
   "execution_count": null,
   "metadata": {},
   "outputs": [],
   "source": [
    "len(sentence_vectors)"
   ]
  },
  {
   "cell_type": "code",
   "execution_count": null,
   "metadata": {},
   "outputs": [],
   "source": [
    "#add this into df_new\n",
    "df_new[\"glove_vectors\"] = sentence_vectors"
   ]
  },
  {
   "cell_type": "code",
   "execution_count": null,
   "metadata": {},
   "outputs": [],
   "source": [
    "df_new"
   ]
  },
  {
   "cell_type": "code",
   "execution_count": null,
   "metadata": {},
   "outputs": [],
   "source": [
    "#df_new.to_pickle(\"./CleanedData_firstversion.pk1\")\n",
    "#save as the second version\n",
    "df_new.to_pickle(\"./CleanedData_secondversion.pk1\")"
   ]
  },
  {
   "cell_type": "markdown",
   "metadata": {},
   "source": [
    "##### Create vectors using TF-IDF"
   ]
  },
  {
   "cell_type": "code",
   "execution_count": null,
   "metadata": {},
   "outputs": [],
   "source": [
    "#from sklearn.feature_extraction.text import TfidfVectorizer\n",
    "\n",
    "#turn filtered lines into a list of sentences with spaces and without stopwords \n",
    "key_sentences = []\n",
    "\n",
    "for x in filtered_lines:\n",
    "    temp = \" \".join(x)\n",
    "    key_sentences.append(temp)"
   ]
  },
  {
   "cell_type": "code",
   "execution_count": null,
   "metadata": {},
   "outputs": [],
   "source": [
    "key_sentences"
   ]
  },
  {
   "cell_type": "code",
   "execution_count": null,
   "metadata": {},
   "outputs": [],
   "source": [
    "vectorizer = TfidfVectorizer(token_pattern=r'\\S+')\n",
    "weights = vectorizer.fit_transform(key_sentences)"
   ]
  },
  {
   "cell_type": "code",
   "execution_count": null,
   "metadata": {},
   "outputs": [],
   "source": [
    "feature_names = vectorizer.get_feature_names()\n",
    "doc = 2\n",
    "feature_index = weights[doc,:].nonzero()[1]\n",
    "tfidf_scores = zip(feature_index, [weights[doc, x] for x in feature_index])"
   ]
  },
  {
   "cell_type": "code",
   "execution_count": null,
   "metadata": {},
   "outputs": [],
   "source": [
    "feature_names"
   ]
  },
  {
   "cell_type": "code",
   "execution_count": null,
   "metadata": {},
   "outputs": [],
   "source": [
    "for w, s in [(feature_names[i], s) for (i, s) in tfidf_scores]:\n",
    "    print(w, s)"
   ]
  },
  {
   "cell_type": "code",
   "execution_count": null,
   "metadata": {},
   "outputs": [],
   "source": [
    "tfidf_scores"
   ]
  },
  {
   "cell_type": "code",
   "execution_count": null,
   "metadata": {},
   "outputs": [],
   "source": [
    "#now get the scores for each line\n",
    "score_dict = {}\n",
    "line_dict = {}\n",
    "\n",
    "total_lines = len(filtered_lines)\n",
    "\n",
    "for i in range(total_lines):\n",
    "    line_dict = {}\n",
    "    feature_index = weights[i,:].nonzero()[1]\n",
    "    tfidf_scores = zip(feature_index, [weights[i, x] for x in feature_index])\n",
    "    for w, s in [(feature_names[ii], s) for (ii, s) in tfidf_scores]:\n",
    "        line_dict[w] = s\n",
    "    \n",
    "    #append the score for the line to the total dictionary\n",
    "    score_dict[i] = line_dict"
   ]
  },
  {
   "cell_type": "code",
   "execution_count": null,
   "metadata": {},
   "outputs": [],
   "source": [
    "score_dict"
   ]
  },
  {
   "cell_type": "code",
   "execution_count": null,
   "metadata": {},
   "outputs": [],
   "source": [
    "#export and save the dictionary of score\n",
    "\n",
    "#save_obj(score_dict,\"tfidf_dict\")\n",
    "\n",
    "#save it as a second edition for word embedding size of 50\n",
    "save_obj(score_dict,\"tfidf_dict_size50\")\n"
   ]
  },
  {
   "cell_type": "code",
   "execution_count": null,
   "metadata": {},
   "outputs": [],
   "source": [
    "len(score_dict)"
   ]
  },
  {
   "cell_type": "code",
   "execution_count": null,
   "metadata": {},
   "outputs": [],
   "source": [
    "len(filtered_lines)"
   ]
  },
  {
   "cell_type": "code",
   "execution_count": null,
   "metadata": {},
   "outputs": [],
   "source": [
    "total_lines"
   ]
  },
  {
   "cell_type": "code",
   "execution_count": null,
   "metadata": {},
   "outputs": [],
   "source": [
    "#apply tfidf to the vectors"
   ]
  },
  {
   "cell_type": "code",
   "execution_count": null,
   "metadata": {},
   "outputs": [],
   "source": [
    "#score_dict{index:{word:score....word:score....}}\n",
    "#real_vectors 21219*n*20\n",
    "\n",
    "tfidf_vector = []\n",
    "v_sum = 0\n",
    "s_sum = 0\n",
    "\n",
    "for i in range(total_lines):\n",
    "    v_sum = 0\n",
    "    s_sum = 0\n",
    "    s_temp = 0\n",
    "    temp = 0\n",
    "    n=len(filtered_lines[i])\n",
    "    if n>0:\n",
    "        for w in range(n):\n",
    "            word = filtered_lines[i][w]\n",
    "            print(i,w,word)\n",
    "            s_temp = score_dict[i][str(word)]\n",
    "            v_sum = v_sum + real_vectors[i][w] * s_temp\n",
    "            s_sum = s_sum + s_temp\n",
    "            temp = v_sum/s_sum\n",
    "    else:\n",
    "        temp = 0\n",
    "    \n",
    "    tfidf_vector.append(temp)\n"
   ]
  },
  {
   "cell_type": "code",
   "execution_count": null,
   "metadata": {},
   "outputs": [],
   "source": [
    "score_dict[0][filtered_lines[0][0]]"
   ]
  },
  {
   "cell_type": "code",
   "execution_count": null,
   "metadata": {},
   "outputs": [],
   "source": [
    "filtered_lines[33][0]"
   ]
  },
  {
   "cell_type": "code",
   "execution_count": null,
   "metadata": {},
   "outputs": [],
   "source": [
    "score_dict[33]"
   ]
  },
  {
   "cell_type": "code",
   "execution_count": null,
   "metadata": {},
   "outputs": [],
   "source": [
    "tfidf_vector[0]"
   ]
  },
  {
   "cell_type": "code",
   "execution_count": null,
   "metadata": {},
   "outputs": [],
   "source": [
    "sentence_vectors[0]"
   ]
  },
  {
   "cell_type": "code",
   "execution_count": null,
   "metadata": {},
   "outputs": [],
   "source": [
    "#save the tfidf adjusted vector\n",
    "#save_obj(tfidf_vector,\"tfidf_vector_corpus\")\n",
    "\n",
    "#save it as second version\n",
    "save_obj(tfidf_vector,\"tfidf_vector_corpus_size50\")"
   ]
  },
  {
   "cell_type": "code",
   "execution_count": null,
   "metadata": {},
   "outputs": [],
   "source": [
    "len(df_new)"
   ]
  },
  {
   "cell_type": "code",
   "execution_count": null,
   "metadata": {},
   "outputs": [],
   "source": [
    "#add tfidf_vector to the dataframe\n",
    "#add this into df_new\n",
    "df_new[\"tfidf_vectors\"] =tfidf_vector"
   ]
  },
  {
   "cell_type": "code",
   "execution_count": null,
   "metadata": {},
   "outputs": [],
   "source": [
    "#save this new dataset\n",
    "#save_obj(df_new,\"df_tfidf\")\n",
    "\n",
    "#save it as second version for a vector size of 50\n",
    "save_obj(df_new,\"df_tfidf_size50\")"
   ]
  },
  {
   "cell_type": "code",
   "execution_count": null,
   "metadata": {},
   "outputs": [],
   "source": [
    "df_new"
   ]
  },
  {
   "cell_type": "code",
   "execution_count": null,
   "metadata": {},
   "outputs": [],
   "source": []
  }
 ],
 "metadata": {
  "kernelspec": {
   "display_name": "Python 3",
   "language": "python",
   "name": "python3"
  },
  "language_info": {
   "codemirror_mode": {
    "name": "ipython",
    "version": 3
   },
   "file_extension": ".py",
   "mimetype": "text/x-python",
   "name": "python",
   "nbconvert_exporter": "python",
   "pygments_lexer": "ipython3",
   "version": "3.6.5"
  }
 },
 "nbformat": 4,
 "nbformat_minor": 2
}
