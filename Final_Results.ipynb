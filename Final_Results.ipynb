{
 "cells": [
  {
   "cell_type": "markdown",
   "metadata": {},
   "source": [
    "#### The purpose of this notebook is to show the final results"
   ]
  },
  {
   "cell_type": "code",
   "execution_count": 2,
   "metadata": {},
   "outputs": [],
   "source": [
    "import pandas as pd\n",
    "import numpy as np\n",
    "import seaborn as sns\n",
    "import pickle"
   ]
  },
  {
   "cell_type": "code",
   "execution_count": 3,
   "metadata": {},
   "outputs": [],
   "source": [
    "def save_obj(obj, name ):\n",
    "    with open('./'+ name + '.pkl', 'wb') as f:\n",
    "        pickle.dump(obj, f, pickle.HIGHEST_PROTOCOL)\n",
    "\n",
    "def load_obj(name ):\n",
    "    with open('./' + name + '.pkl', 'rb') as f:\n",
    "        return pickle.load(f)"
   ]
  },
  {
   "cell_type": "code",
   "execution_count": 4,
   "metadata": {},
   "outputs": [],
   "source": [
    "#load final results from DataAnalysis.Final\n",
    "df_final_results = load_obj(\"df_final_results\")\n",
    "final_results_detail = load_obj(\"final_results_detail\")\n",
    "#load the test feature data\n",
    "X_test_rf2 = load_obj(\"X_test_rf2\")\n",
    "sim_score = X_test_rf2[\"best-sellers-similarity-score\"]"
   ]
  },
  {
   "cell_type": "code",
   "execution_count": 5,
   "metadata": {},
   "outputs": [],
   "source": [
    "#calculate the standard error on the absolute error\n",
    "final_results_std = []\n",
    "for k,v in final_results_detail.items():\n",
    "    final_results_std.append(np.std(abs(v[0]-v[1])))"
   ]
  },
  {
   "cell_type": "code",
   "execution_count": 8,
   "metadata": {},
   "outputs": [],
   "source": [
    "columns_final = [\"rf\",\"xgb\",\"lasso\",\"SVR\"]\n",
    "data = [\"base\",\"rf1\",\"rf2\",\"rf3\"]"
   ]
  },
  {
   "cell_type": "code",
   "execution_count": 9,
   "metadata": {},
   "outputs": [
    {
     "data": {
      "text/html": [
       "<div>\n",
       "<style scoped>\n",
       "    .dataframe tbody tr th:only-of-type {\n",
       "        vertical-align: middle;\n",
       "    }\n",
       "\n",
       "    .dataframe tbody tr th {\n",
       "        vertical-align: top;\n",
       "    }\n",
       "\n",
       "    .dataframe thead th {\n",
       "        text-align: right;\n",
       "    }\n",
       "</style>\n",
       "<table border=\"1\" class=\"dataframe\">\n",
       "  <thead>\n",
       "    <tr style=\"text-align: right;\">\n",
       "      <th></th>\n",
       "      <th>rf</th>\n",
       "      <th>xgb</th>\n",
       "      <th>lasso</th>\n",
       "      <th>SVR</th>\n",
       "    </tr>\n",
       "  </thead>\n",
       "  <tbody>\n",
       "    <tr>\n",
       "      <th>base</th>\n",
       "      <td>19.571754</td>\n",
       "      <td>16.749150</td>\n",
       "      <td>16.269215</td>\n",
       "      <td>18.072734</td>\n",
       "    </tr>\n",
       "    <tr>\n",
       "      <th>rf1</th>\n",
       "      <td>15.780177</td>\n",
       "      <td>17.430251</td>\n",
       "      <td>16.208010</td>\n",
       "      <td>18.408655</td>\n",
       "    </tr>\n",
       "    <tr>\n",
       "      <th>rf2</th>\n",
       "      <td>15.510837</td>\n",
       "      <td>16.095531</td>\n",
       "      <td>16.225937</td>\n",
       "      <td>18.481285</td>\n",
       "    </tr>\n",
       "    <tr>\n",
       "      <th>rf3</th>\n",
       "      <td>17.606634</td>\n",
       "      <td>17.534923</td>\n",
       "      <td>16.544307</td>\n",
       "      <td>18.647356</td>\n",
       "    </tr>\n",
       "  </tbody>\n",
       "</table>\n",
       "</div>"
      ],
      "text/plain": [
       "             rf        xgb      lasso        SVR\n",
       "base  19.571754  16.749150  16.269215  18.072734\n",
       "rf1   15.780177  17.430251  16.208010  18.408655\n",
       "rf2   15.510837  16.095531  16.225937  18.481285\n",
       "rf3   17.606634  17.534923  16.544307  18.647356"
      ]
     },
     "execution_count": 9,
     "metadata": {},
     "output_type": "execute_result"
    }
   ],
   "source": [
    "#reshape into dataframe format\n",
    "#std of the prediction\n",
    "data_std = np.reshape(final_results_std, (4, 4)).T\n",
    "df_final_results_std = pd.DataFrame(data_std,columns = columns_final, index = data)\n",
    "df_final_results_std"
   ]
  },
  {
   "cell_type": "code",
   "execution_count": 10,
   "metadata": {},
   "outputs": [
    {
     "data": {
      "text/html": [
       "<div>\n",
       "<style scoped>\n",
       "    .dataframe tbody tr th:only-of-type {\n",
       "        vertical-align: middle;\n",
       "    }\n",
       "\n",
       "    .dataframe tbody tr th {\n",
       "        vertical-align: top;\n",
       "    }\n",
       "\n",
       "    .dataframe thead th {\n",
       "        text-align: right;\n",
       "    }\n",
       "</style>\n",
       "<table border=\"1\" class=\"dataframe\">\n",
       "  <thead>\n",
       "    <tr style=\"text-align: right;\">\n",
       "      <th></th>\n",
       "      <th>RF</th>\n",
       "      <th>xgb</th>\n",
       "      <th>lasso</th>\n",
       "      <th>SVR</th>\n",
       "    </tr>\n",
       "  </thead>\n",
       "  <tbody>\n",
       "    <tr>\n",
       "      <th>base</th>\n",
       "      <td>18.657284</td>\n",
       "      <td>16.274979</td>\n",
       "      <td>18.115471</td>\n",
       "      <td>16.018917</td>\n",
       "    </tr>\n",
       "    <tr>\n",
       "      <th>rf1</th>\n",
       "      <td>16.970310</td>\n",
       "      <td>16.115778</td>\n",
       "      <td>17.727297</td>\n",
       "      <td>16.151685</td>\n",
       "    </tr>\n",
       "    <tr>\n",
       "      <th>rf2</th>\n",
       "      <td>16.920989</td>\n",
       "      <td>16.535165</td>\n",
       "      <td>17.774939</td>\n",
       "      <td>16.182691</td>\n",
       "    </tr>\n",
       "    <tr>\n",
       "      <th>rf3</th>\n",
       "      <td>17.878632</td>\n",
       "      <td>16.395699</td>\n",
       "      <td>18.354636</td>\n",
       "      <td>16.283101</td>\n",
       "    </tr>\n",
       "  </tbody>\n",
       "</table>\n",
       "</div>"
      ],
      "text/plain": [
       "             RF        xgb      lasso        SVR\n",
       "base  18.657284  16.274979  18.115471  16.018917\n",
       "rf1   16.970310  16.115778  17.727297  16.151685\n",
       "rf2   16.920989  16.535165  17.774939  16.182691\n",
       "rf3   17.878632  16.395699  18.354636  16.283101"
      ]
     },
     "execution_count": 10,
     "metadata": {},
     "output_type": "execute_result"
    }
   ],
   "source": [
    "#compare with the mean absolute error of the prediction\n",
    "df_final_results"
   ]
  },
  {
   "cell_type": "markdown",
   "metadata": {},
   "source": [
    "As a reminder, the baseline model performed a mae of 16.35 dollars and a standard deviation of 17.35 dollars on the absolute error.\n",
    "From the above results, there are several observations:\n",
    "1. In terms of mean absolute error, all the non-linear models (rf,xgb,SVR) perform better than the linear model (lasso)\n",
    "2. However, most of the time, non-linear models would produce more variance as they are more complex.\n",
    "3. It's worth noting that unde the context of the same model, using the whole name vector sets usually provides a more accurate estimation (lower mae and lower std) which is outperforming the other 2 dataset (base and rf3).\n",
    "4. We will take the best of each model and comparethem using boxplots on the absolute error on the test data\n",
    "5. Some XGBoost model and all SVR models produced a smaller mae than the baseline but with a degradation on the variance.\n",
    "6  By considering both the mean and standard deviation of the absolute error, the best model (though a minor improvement on the baseline) is XGBoost using tfidf weighted word vectors which has achieved a mean absolute error of 16.53 dollars and a standard deviation of 16.1 dollars."
   ]
  },
  {
   "cell_type": "markdown",
   "metadata": {},
   "source": [
    "### To see how prediction did in different price ranges"
   ]
  },
  {
   "cell_type": "code",
   "execution_count": 68,
   "metadata": {},
   "outputs": [],
   "source": [
    "final_data = {}\n",
    "final_data[\"y_test\"] = final_results_detail[\"xgb_rf2\"][0]\n",
    "final_data[\"y_test_pred\"] = final_results_detail[\"xgb_rf2\"][1]"
   ]
  },
  {
   "cell_type": "code",
   "execution_count": 69,
   "metadata": {},
   "outputs": [],
   "source": [
    "#form a data frame and add absolute error \n",
    "df_final_data = pd.DataFrame(final_data)\n",
    "df_final_data[\"absolute_error\"] = abs(final_data[\"y_test\"] - final_data[\"y_test_pred\"])\n",
    "#set index\n",
    "#set the index to be the one in the original database\n",
    "target_index = X_test_rf2.index.values\n",
    "df_final_data[\"index\"] = target_index\n",
    "df_final_data.set_index(\"index\", inplace=True)\n",
    "#set the sim_score\n",
    "df_final_data[\"sim_score\"] = sim_score"
   ]
  },
  {
   "cell_type": "code",
   "execution_count": 71,
   "metadata": {},
   "outputs": [],
   "source": [
    "df_final_data_sorted = df_final_data.sort_values(by = \"y_test\")"
   ]
  },
  {
   "cell_type": "code",
   "execution_count": 72,
   "metadata": {},
   "outputs": [
    {
     "data": {
      "text/plain": [
       "24.0"
      ]
     },
     "execution_count": 72,
     "metadata": {},
     "output_type": "execute_result"
    }
   ],
   "source": [
    "ts = np.floor((max(df_final_data_sorted[\"y_test\"])-min(df_final_data_sorted[\"y_test\"]))/5)\n",
    "ts"
   ]
  },
  {
   "cell_type": "code",
   "execution_count": 73,
   "metadata": {},
   "outputs": [],
   "source": [
    "#there will be 5 groups with a group price range of 24 dollars\n",
    "df_final_data_sorted[\"price_group\"] = 0"
   ]
  },
  {
   "cell_type": "code",
   "execution_count": 74,
   "metadata": {},
   "outputs": [],
   "source": [
    "df_final_data_sorted.loc[df_final_data_sorted[\"y_test\"]<=ts,[\"price_group\"]] = \"<=24\"\n",
    "df_final_data_sorted.loc[((df_final_data_sorted[\"y_test\"]>ts) & (df_final_data_sorted[\"y_test\"]<=ts*2)),[\"price_group\"]] = \"24<$<=48\"\n",
    "df_final_data_sorted.loc[((df_final_data_sorted[\"y_test\"]>2*ts) & (df_final_data_sorted[\"y_test\"]<=ts*3)),[\"price_group\"]] = \"48<$<=72\"\n",
    "df_final_data_sorted.loc[((df_final_data_sorted[\"y_test\"]>3*ts) & (df_final_data_sorted[\"y_test\"]<=ts*4)),[\"price_group\"]] = \"72<$<=96\"\n",
    "df_final_data_sorted.loc[((df_final_data_sorted[\"y_test\"]>4*ts)),[\"price_group\"]] = \">96\""
   ]
  },
  {
   "cell_type": "code",
   "execution_count": 75,
   "metadata": {},
   "outputs": [
    {
     "data": {
      "text/plain": [
       "[Text(0,0.5,'absolute error of prediction'), Text(0.5,0,'real price ranges')]"
      ]
     },
     "execution_count": 75,
     "metadata": {},
     "output_type": "execute_result"
    },
    {
     "data": {
      "image/png": "[encoded data removed]",
      "text/plain": [
       "<Figure size 432x288 with 1 Axes>"
      ]
     },
     "metadata": {},
     "output_type": "display_data"
    }
   ],
   "source": [
    "sns.set(style=\"whitegrid\")\n",
    "ax = sns.boxplot(x = \"price_group\", y=\"absolute_error\",data = df_final_data_sorted)\n",
    "ax.set(xlabel='real price ranges', ylabel='absolute error of prediction')"
   ]
  },
  {
   "cell_type": "code",
   "execution_count": 77,
   "metadata": {},
   "outputs": [],
   "source": [
    "#try the same on sim score\n",
    "df_final_data_sorted[\"sim_group\"] = 0"
   ]
  },
  {
   "cell_type": "code",
   "execution_count": 79,
   "metadata": {},
   "outputs": [
    {
     "data": {
      "text/plain": [
       "0.10823155346784821"
      ]
     },
     "execution_count": 79,
     "metadata": {},
     "output_type": "execute_result"
    }
   ],
   "source": [
    "ts1 = (max(sim_score)-min(sim_score))/5\n",
    "ts1"
   ]
  },
  {
   "cell_type": "code",
   "execution_count": 82,
   "metadata": {},
   "outputs": [],
   "source": [
    "df_final_data_sorted.loc[df_final_data_sorted[\"sim_score\"]<=ts1,[\"sim_group\"]] = \"5\"\n",
    "df_final_data_sorted.loc[((df_final_data_sorted[\"sim_score\"]>ts1) & (df_final_data_sorted[\"sim_score\"]<=ts1*2)),[\"sim_group\"]] = \"4\"\n",
    "df_final_data_sorted.loc[((df_final_data_sorted[\"sim_score\"]>2*ts1) & (df_final_data_sorted[\"sim_score\"]<=ts1*3)),[\"sim_group\"]] = \"3\"\n",
    "df_final_data_sorted.loc[((df_final_data_sorted[\"sim_score\"]>3*ts1) & (df_final_data_sorted[\"sim_score\"]<=ts1*4)),[\"sim_group\"]] = \"2\"\n",
    "df_final_data_sorted.loc[((df_final_data_sorted[\"sim_score\"]>4*ts1)),[\"sim_group\"]] = \"1\""
   ]
  },
  {
   "cell_type": "code",
   "execution_count": 83,
   "metadata": {},
   "outputs": [
    {
     "data": {
      "text/plain": [
       "[Text(0,0.5,'absolute error of prediction'),\n",
       " Text(0.5,0,'how similar the title is to a best seller (5 is very similar)')]"
      ]
     },
     "execution_count": 83,
     "metadata": {},
     "output_type": "execute_result"
    },
    {
     "data": {
      "image/png": "[encoded data removed]",
      "text/plain": [
       "<Figure size 432x288 with 1 Axes>"
      ]
     },
     "metadata": {},
     "output_type": "display_data"
    }
   ],
   "source": [
    "sns.set(style=\"whitegrid\")\n",
    "ax = sns.boxplot(x = \"sim_group\", y=\"absolute_error\",data = df_final_data_sorted)\n",
    "ax.set(xlabel='how similar the title is to a best seller (5 is very similar)', ylabel='absolute error of prediction')"
   ]
  },
  {
   "cell_type": "markdown",
   "metadata": {},
   "source": [
    "It seems that the more expensive the game is, the harder it is to predict accurately. In addition, the more similar a game title to a timeless classic, the more \"outliers\" one would get for this kind of game. The latter might explain the fact that predictions on many big franchise names tend to have an above average error.  Since many unimpressive sequals can follow a big title, this phenomenon might not be so surprising (ex., assassin's creed 3 compared to its predecessors or the more recent games such as origins or odessys). It is also worth pointing out that franchise games are more likely to issue special edition of the games for collecters (i.e., limited collections, collector's edition) that upskews the price while a normal edition with only the game itself would cost much less. In our example, assassins creed brotherhood collectors edition is priced on average at $64 and the normal edition is $7. The collector's value seems to be hard to assess."
   ]
  },
  {
   "cell_type": "markdown",
   "metadata": {},
   "source": [
    "##### let's see some examples:\n"
   ]
  },
  {
   "cell_type": "code",
   "execution_count": 20,
   "metadata": {},
   "outputs": [],
   "source": [
    "#load the database and the mask saved from the previous note book, for convenience\n",
    "df_rf2 = load_obj(\"df_rf2\")\n",
    "selector_rf1_2 = load_obj(\"selector_rf1_2\")\n",
    "df_toview = df_rf2[selector_rf1_2]"
   ]
  },
  {
   "cell_type": "code",
   "execution_count": 21,
   "metadata": {},
   "outputs": [],
   "source": [
    "#export to csv to check the names of the games that are interesting\n",
    "df_toview.to_csv('test_view.csv')"
   ]
  },
  {
   "cell_type": "code",
   "execution_count": 22,
   "metadata": {},
   "outputs": [],
   "source": [
    "#load the test feature data\n",
    "X_test_rf2 = load_obj(\"X_test_rf2\")"
   ]
  },
  {
   "cell_type": "code",
   "execution_count": 32,
   "metadata": {},
   "outputs": [],
   "source": [
    "sim_score = X_test_rf2[\"best-sellers-similarity-score\"]"
   ]
  },
  {
   "cell_type": "code",
   "execution_count": 33,
   "metadata": {},
   "outputs": [
    {
     "data": {
      "text/plain": [
       "0.541157767339241"
      ]
     },
     "execution_count": 33,
     "metadata": {},
     "output_type": "execute_result"
    }
   ],
   "source": [
    "max(sim_score) - min(sim_score) "
   ]
  },
  {
   "cell_type": "code",
   "execution_count": 23,
   "metadata": {},
   "outputs": [],
   "source": [
    "#set the index to be the one in the original database\n",
    "target_index = X_test_rf2.index.values\n",
    "df_final_data[\"index\"] = target_index\n",
    "df_final_data.set_index(\"index\", inplace=True)"
   ]
  },
  {
   "cell_type": "code",
   "execution_count": 28,
   "metadata": {},
   "outputs": [
    {
     "data": {
      "text/plain": [
       "y_test            17.807877\n",
       "y_test_pred       18.044987\n",
       "absolute_error     0.237110\n",
       "Name: 6399, dtype: float64"
      ]
     },
     "execution_count": 28,
     "metadata": {},
     "output_type": "execute_result"
    }
   ],
   "source": [
    "#FIFA 2018\n",
    "df_final_data.loc[6399]"
   ]
  },
  {
   "cell_type": "code",
   "execution_count": 24,
   "metadata": {},
   "outputs": [
    {
     "data": {
      "text/plain": [
       "y_test            97.970000\n",
       "y_test_pred       36.935448\n",
       "absolute_error    61.034552\n",
       "Name: 22764, dtype: float64"
      ]
     },
     "execution_count": 24,
     "metadata": {},
     "output_type": "execute_result"
    }
   ],
   "source": [
    "#Zelda Link's awakening dreamers edition\n",
    "df_final_data.loc[22764]"
   ]
  },
  {
   "cell_type": "code",
   "execution_count": 25,
   "metadata": {},
   "outputs": [
    {
     "data": {
      "text/plain": [
       "y_test             7.713645\n",
       "y_test_pred       16.927998\n",
       "absolute_error     9.214353\n",
       "Name: 1067, dtype: float64"
      ]
     },
     "execution_count": 25,
     "metadata": {},
     "output_type": "execute_result"
    }
   ],
   "source": [
    "#assassins creed iii\n",
    "df_final_data.loc[1067]"
   ]
  },
  {
   "cell_type": "code",
   "execution_count": 26,
   "metadata": {},
   "outputs": [
    {
     "data": {
      "text/plain": [
       "y_test             9.940000\n",
       "y_test_pred       15.270726\n",
       "absolute_error     5.330726\n",
       "Name: 1969, dtype: float64"
      ]
     },
     "execution_count": 26,
     "metadata": {},
     "output_type": "execute_result"
    }
   ],
   "source": [
    "#bioshock 2 greatest hits\n",
    "df_final_data.loc[1969]"
   ]
  },
  {
   "cell_type": "code",
   "execution_count": 27,
   "metadata": {},
   "outputs": [
    {
     "data": {
      "text/plain": [
       "y_test            20.466141\n",
       "y_test_pred       32.244186\n",
       "absolute_error    11.778046\n",
       "Name: 8151, dtype: float64"
      ]
     },
     "execution_count": 27,
     "metadata": {},
     "output_type": "execute_result"
    }
   ],
   "source": [
    "#harry potter and the chamber of secrets\n",
    "df_final_data.loc[8151]"
   ]
  },
  {
   "cell_type": "code",
   "execution_count": 29,
   "metadata": {},
   "outputs": [
    {
     "data": {
      "text/plain": [
       "y_test            43.530000\n",
       "y_test_pred       40.078487\n",
       "absolute_error     3.451513\n",
       "Name: 13244, dtype: float64"
      ]
     },
     "execution_count": 29,
     "metadata": {},
     "output_type": "execute_result"
    }
   ],
   "source": [
    "#new super mario bros u deluxe\n",
    "df_final_data.loc[13244]"
   ]
  },
  {
   "cell_type": "markdown",
   "metadata": {},
   "source": [
    "##### Please note that the price here is the average second hand price of the same title in all available platforms (sold either on ebay or pricechart.org)"
   ]
  },
  {
   "cell_type": "code",
   "execution_count": null,
   "metadata": {},
   "outputs": [],
   "source": []
  }
 ],
 "metadata": {
  "kernelspec": {
   "display_name": "Python 3",
   "language": "python",
   "name": "python3"
  },
  "language_info": {
   "codemirror_mode": {
    "name": "ipython",
    "version": 3
   },
   "file_extension": ".py",
   "mimetype": "text/x-python",
   "name": "python",
   "nbconvert_exporter": "python",
   "pygments_lexer": "ipython3",
   "version": "3.6.5"
  }
 },
 "nbformat": 4,
 "nbformat_minor": 2
}
